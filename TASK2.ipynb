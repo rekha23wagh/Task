{
 "cells": [
  {
   "cell_type": "markdown",
   "id": "182dbf7e",
   "metadata": {},
   "source": [
    "# TASK2"
   ]
  },
  {
   "cell_type": "raw",
   "id": "d001a215",
   "metadata": {},
   "source": [
    "l =[3,4,5,6,7 , [23,456,67,8,78,78] , [345,56,87,98,9] , (234,6657,6), {\"key1\" : \"Rekha\" , 234:[23,45,656]}]"
   ]
  },
  {
   "cell_type": "markdown",
   "id": "3954f081",
   "metadata": {},
   "source": [
    "Q1- try to reverse a list"
   ]
  },
  {
   "cell_type": "code",
   "execution_count": 3,
   "id": "a88042e5",
   "metadata": {},
   "outputs": [],
   "source": [
    "l.reverse()"
   ]
  },
  {
   "cell_type": "code",
   "execution_count": 5,
   "id": "6123055f",
   "metadata": {},
   "outputs": [
    {
     "data": {
      "text/plain": [
       "[{'key1': 'Rekha', 234: [23, 45, 656]},\n",
       " (234, 6657, 6),\n",
       " [345, 56, 87, 98, 9],\n",
       " [23, 456, 67, 8, 78, 78],\n",
       " 7,\n",
       " 6,\n",
       " 5,\n",
       " 4,\n",
       " 3]"
      ]
     },
     "execution_count": 5,
     "metadata": {},
     "output_type": "execute_result"
    }
   ],
   "source": [
    "l"
   ]
  },
  {
   "cell_type": "code",
   "execution_count": 8,
   "id": "d2c2d7b9",
   "metadata": {},
   "outputs": [],
   "source": [
    "l =[3,4,5,6,7 , [23,456,67,8,78,78] , [345,56,87,98,9] , (234,6657,6), {\"key1\" : \"Rekha\" , 234:[23,45,656]}]"
   ]
  },
  {
   "cell_type": "code",
   "execution_count": 9,
   "id": "16752dc7",
   "metadata": {},
   "outputs": [
    {
     "data": {
      "text/plain": [
       "[{'key1': 'Rekha', 234: [23, 45, 656]},\n",
       " (234, 6657, 6),\n",
       " [345, 56, 87, 98, 9],\n",
       " [23, 456, 67, 8, 78, 78],\n",
       " 7,\n",
       " 6,\n",
       " 5,\n",
       " 4,\n",
       " 3]"
      ]
     },
     "execution_count": 9,
     "metadata": {},
     "output_type": "execute_result"
    }
   ],
   "source": [
    "l[::-1]"
   ]
  },
  {
   "cell_type": "markdown",
   "id": "db8add26",
   "metadata": {},
   "source": [
    "Q2. Try to access 234 out of this list"
   ]
  },
  {
   "cell_type": "code",
   "execution_count": 15,
   "id": "cf9f85e5",
   "metadata": {},
   "outputs": [],
   "source": [
    "l =[3,4,5,6,7 , [23,456,67,8,78,78] , [345,56,87,98,9] , (234,6657,6), {\"key1\" : \"Rekha\" , 234:[23,45,656]}]"
   ]
  },
  {
   "cell_type": "code",
   "execution_count": 16,
   "id": "31a555a5",
   "metadata": {},
   "outputs": [
    {
     "data": {
      "text/plain": [
       "234"
      ]
     },
     "execution_count": 16,
     "metadata": {},
     "output_type": "execute_result"
    }
   ],
   "source": [
    "l[7][0]"
   ]
  },
  {
   "cell_type": "markdown",
   "id": "27943fe1",
   "metadata": {},
   "source": [
    "Q3. try to access 456 "
   ]
  },
  {
   "cell_type": "code",
   "execution_count": 3,
   "id": "a47de7ab",
   "metadata": {},
   "outputs": [],
   "source": [
    "l =[3,4,5,6,7 , [23,456,67,8,78,78] , [345,56,87,98,9] , (234,6657,6), {\"key1\" : \"Rekha\" , 234:[23,45,656]}]"
   ]
  },
  {
   "cell_type": "code",
   "execution_count": 4,
   "id": "a5c4af53",
   "metadata": {},
   "outputs": [
    {
     "data": {
      "text/plain": [
       "456"
      ]
     },
     "execution_count": 4,
     "metadata": {},
     "output_type": "execute_result"
    }
   ],
   "source": [
    "l[5][1]"
   ]
  },
  {
   "cell_type": "markdown",
   "id": "f06612fe",
   "metadata": {},
   "source": [
    "Q4. try to extract only a list  collection from list l"
   ]
  },
  {
   "cell_type": "code",
   "execution_count": 5,
   "id": "567d9a30",
   "metadata": {},
   "outputs": [],
   "source": [
    "l =[3,4,5,6,7 , [23,456,67,8,78,78] , [345,56,87,98,9] , (234,6657,6), {\"key1\" : \"Rekha\" , 234:[23,45,656]}]"
   ]
  },
  {
   "cell_type": "code",
   "execution_count": 6,
   "id": "db4bbc54",
   "metadata": {},
   "outputs": [
    {
     "data": {
      "text/plain": [
       "[[23, 456, 67, 8, 78, 78], [345, 56, 87, 98, 9]]"
      ]
     },
     "execution_count": 6,
     "metadata": {},
     "output_type": "execute_result"
    }
   ],
   "source": [
    "l[5:7]"
   ]
  },
  {
   "cell_type": "markdown",
   "id": "c3e6c39b",
   "metadata": {},
   "source": [
    "Q5. Try to extract \"Rekha\" "
   ]
  },
  {
   "cell_type": "code",
   "execution_count": 22,
   "id": "4cb6068c",
   "metadata": {},
   "outputs": [],
   "source": [
    "l =[3,4,5,6,7 , [23,456,67,8,78,78] , [345,56,87,98,9] , (234,6657,6), {\"key1\" : \"Rekha\" , 234:[23,45,656]}]"
   ]
  },
  {
   "cell_type": "code",
   "execution_count": 23,
   "id": "1a768d96",
   "metadata": {},
   "outputs": [
    {
     "data": {
      "text/plain": [
       "'Rekha'"
      ]
     },
     "execution_count": 23,
     "metadata": {},
     "output_type": "execute_result"
    }
   ],
   "source": [
    "l[8][\"key1\"]"
   ]
  },
  {
   "cell_type": "markdown",
   "id": "f99a9ead",
   "metadata": {},
   "source": [
    "Q6. Try to list all the key in dict element available in list l"
   ]
  },
  {
   "cell_type": "code",
   "execution_count": 24,
   "id": "2c47ea2c",
   "metadata": {},
   "outputs": [],
   "source": [
    "l =[3,4,5,6,7 , [23,456,67,8,78,78] , [345,56,87,98,9] , (234,6657,6), {\"key1\" : \"Rekha\" , 234:[23,45,656]}]"
   ]
  },
  {
   "cell_type": "code",
   "execution_count": 8,
   "id": "925d807c",
   "metadata": {},
   "outputs": [
    {
     "data": {
      "text/plain": [
       "['key1', 234]"
      ]
     },
     "execution_count": 8,
     "metadata": {},
     "output_type": "execute_result"
    }
   ],
   "source": [
    "list(l[8].keys())"
   ]
  },
  {
   "cell_type": "markdown",
   "id": "0d4d5775",
   "metadata": {},
   "source": [
    "Q7Try to extract all the value element from dict available in list"
   ]
  },
  {
   "cell_type": "code",
   "execution_count": 9,
   "id": "164b6d06",
   "metadata": {},
   "outputs": [],
   "source": [
    "l =[3,4,5,6,7 , [23,456,67,8,78,78] , [345,56,87,98,9] , (234,6657,6), {\"key1\" : \"Rekha\" , 234:[23,45,656]}]"
   ]
  },
  {
   "cell_type": "code",
   "execution_count": 10,
   "id": "85510d05",
   "metadata": {},
   "outputs": [
    {
     "data": {
      "text/plain": [
       "['Rekha', [23, 45, 656]]"
      ]
     },
     "execution_count": 10,
     "metadata": {},
     "output_type": "execute_result"
    }
   ],
   "source": [
    "list(l[8].values())"
   ]
  },
  {
   "cell_type": "code",
   "execution_count": null,
   "id": "784d0074",
   "metadata": {},
   "outputs": [],
   "source": []
  }
 ],
 "metadata": {
  "kernelspec": {
   "display_name": "Python 3 (ipykernel)",
   "language": "python",
   "name": "python3"
  },
  "language_info": {
   "codemirror_mode": {
    "name": "ipython",
    "version": 3
   },
   "file_extension": ".py",
   "mimetype": "text/x-python",
   "name": "python",
   "nbconvert_exporter": "python",
   "pygments_lexer": "ipython3",
   "version": "3.9.12"
  }
 },
 "nbformat": 4,
 "nbformat_minor": 5
}
