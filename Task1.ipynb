{
 "cells": [
  {
   "cell_type": "markdown",
   "id": "f95db20b",
   "metadata": {},
   "source": [
    "# TASK1"
   ]
  },
  {
   "cell_type": "code",
   "execution_count": 1,
   "id": "37cd93fe",
   "metadata": {},
   "outputs": [],
   "source": [
    "s = \"this is my first python programming class and i am learNING python string and its function\""
   ]
  },
  {
   "cell_type": "markdown",
   "id": "be05b562",
   "metadata": {},
   "source": [
    "Q1. Try to extract date from index 1 to 300 with a jump of 3"
   ]
  },
  {
   "cell_type": "code",
   "execution_count": 4,
   "id": "67469fd6",
   "metadata": {},
   "outputs": [],
   "source": [
    "s = \"this is my first python programming class and i am learNING python string and its function\"\n"
   ]
  },
  {
   "cell_type": "code",
   "execution_count": 5,
   "id": "827419f3",
   "metadata": {},
   "outputs": [
    {
     "data": {
      "text/plain": [
       "'h   r tnrrmglsnimeNGyosi dtfco'"
      ]
     },
     "execution_count": 5,
     "metadata": {},
     "output_type": "execute_result"
    }
   ],
   "source": [
    "s[1:300:3]"
   ]
  },
  {
   "cell_type": "markdown",
   "id": "4892682a",
   "metadata": {},
   "source": [
    "Q2.Try to reverse the string without using reverse function"
   ]
  },
  {
   "cell_type": "code",
   "execution_count": null,
   "id": "a0e81998",
   "metadata": {},
   "outputs": [],
   "source": [
    "s = \"this is my first python programming class and i am learNING python string and its function\""
   ]
  },
  {
   "cell_type": "code",
   "execution_count": 7,
   "id": "dca8f838",
   "metadata": {},
   "outputs": [
    {
     "data": {
      "text/plain": [
       "'noitcnuf sti dna gnirts nohtyp gninrael ma i dna ssalc gnimmargorp nohtyp tsrif ym si siht'"
      ]
     },
     "execution_count": 7,
     "metadata": {},
     "output_type": "execute_result"
    }
   ],
   "source": [
    "s[::-1]"
   ]
  },
  {
   "cell_type": "markdown",
   "id": "cf3e70a2",
   "metadata": {},
   "source": [
    "Q3. Try to split a string after conversion of entire string in uppercase"
   ]
  },
  {
   "cell_type": "code",
   "execution_count": 4,
   "id": "30c28d1b",
   "metadata": {},
   "outputs": [
    {
     "data": {
      "text/plain": [
       "['THIS',\n",
       " 'IS',\n",
       " 'MY',\n",
       " 'FIRST',\n",
       " 'PYTHON',\n",
       " 'PROGRAMMING',\n",
       " 'CLASS',\n",
       " 'AND',\n",
       " 'I',\n",
       " 'AM',\n",
       " 'LEARNING',\n",
       " 'PYTHON',\n",
       " 'STRING',\n",
       " 'AND',\n",
       " 'ITS',\n",
       " 'FUNCTION']"
      ]
     },
     "execution_count": 4,
     "metadata": {},
     "output_type": "execute_result"
    }
   ],
   "source": [
    "s = \"this is my first python programming class and i am learNING python string and its function\"\n",
    "s1=s.upper()\n",
    "s1\n",
    "s1.split()"
   ]
  },
  {
   "cell_type": "markdown",
   "id": "a6731e70",
   "metadata": {},
   "source": [
    "Q4Try to convert the whole string into lower case"
   ]
  },
  {
   "cell_type": "code",
   "execution_count": 6,
   "id": "9d3ac4e7",
   "metadata": {},
   "outputs": [],
   "source": [
    "s = \"this is my first python programming class and i am learNING python string and its function\""
   ]
  },
  {
   "cell_type": "code",
   "execution_count": 7,
   "id": "f222d9ce",
   "metadata": {},
   "outputs": [
    {
     "data": {
      "text/plain": [
       "'this is my first python programming class and i am learning python string and its function'"
      ]
     },
     "execution_count": 7,
     "metadata": {},
     "output_type": "execute_result"
    }
   ],
   "source": [
    "s.lower()"
   ]
  },
  {
   "cell_type": "markdown",
   "id": "e17c06f5",
   "metadata": {},
   "source": [
    "Q5. Try to capitalize the whole string "
   ]
  },
  {
   "cell_type": "code",
   "execution_count": 8,
   "id": "79c08ad3",
   "metadata": {},
   "outputs": [],
   "source": [
    "s = \"this is my first python programming class and i am learNING python string and its function\""
   ]
  },
  {
   "cell_type": "code",
   "execution_count": 9,
   "id": "a7123115",
   "metadata": {},
   "outputs": [
    {
     "data": {
      "text/plain": [
       "'This is my first python programming class and i am learning python string and its function'"
      ]
     },
     "execution_count": 9,
     "metadata": {},
     "output_type": "execute_result"
    }
   ],
   "source": [
    "s.capitalize()"
   ]
  },
  {
   "cell_type": "markdown",
   "id": "c9a7d337",
   "metadata": {},
   "source": [
    "Q6 Write a Diff between isalnum() and isalpha()"
   ]
  },
  {
   "cell_type": "code",
   "execution_count": 11,
   "id": "0d71cc71",
   "metadata": {},
   "outputs": [],
   "source": [
    "s = \"this is my first python programming class and i am learNING python string and its function\""
   ]
  },
  {
   "cell_type": "code",
   "execution_count": 12,
   "id": "262721b4",
   "metadata": {},
   "outputs": [
    {
     "data": {
      "text/plain": [
       "False"
      ]
     },
     "execution_count": 12,
     "metadata": {},
     "output_type": "execute_result"
    }
   ],
   "source": [
    "s.isalnum()                   #Return True if the string is an alpha-numeric string, False otherwise.\n"
   ]
  },
  {
   "cell_type": "code",
   "execution_count": 13,
   "id": "c4f838f9",
   "metadata": {},
   "outputs": [
    {
     "data": {
      "text/plain": [
       "False"
      ]
     },
     "execution_count": 13,
     "metadata": {},
     "output_type": "execute_result"
    }
   ],
   "source": [
    "s.isalpha()               #Return True if the string is an alphabetic string, False otherwise.\n"
   ]
  },
  {
   "cell_type": "markdown",
   "id": "93d6338b",
   "metadata": {},
   "source": [
    "Q7. try to give an example of expand tab"
   ]
  },
  {
   "cell_type": "code",
   "execution_count": 14,
   "id": "e462a33e",
   "metadata": {},
   "outputs": [],
   "source": [
    "s = \"this is my first python programming class and i am learNING python string and its function\""
   ]
  },
  {
   "cell_type": "code",
   "execution_count": 15,
   "id": "1b07514c",
   "metadata": {},
   "outputs": [
    {
     "data": {
      "text/plain": [
       "'abcd    efgh    ijkl    mnop    qrst    uvwx'"
      ]
     },
     "execution_count": 15,
     "metadata": {},
     "output_type": "execute_result"
    }
   ],
   "source": [
    "t =\"abcd\\tefgh\\tijkl\\tmnop\\tqrst\\tuvwx\"\n",
    "t.expandtabs()"
   ]
  },
  {
   "cell_type": "markdown",
   "id": "6fa1e623",
   "metadata": {},
   "source": [
    "Q8. Try to give an example of strip(), lstrip(), rstrip()"
   ]
  },
  {
   "cell_type": "code",
   "execution_count": 6,
   "id": "c27f2266",
   "metadata": {},
   "outputs": [],
   "source": [
    "s1 ='    ocean    '\n"
   ]
  },
  {
   "cell_type": "code",
   "execution_count": 7,
   "id": "5e8292a8",
   "metadata": {},
   "outputs": [
    {
     "data": {
      "text/plain": [
       "'ocean'"
      ]
     },
     "execution_count": 7,
     "metadata": {},
     "output_type": "execute_result"
    }
   ],
   "source": [
    "s1.strip()"
   ]
  },
  {
   "cell_type": "code",
   "execution_count": 8,
   "id": "845873b9",
   "metadata": {},
   "outputs": [
    {
     "data": {
      "text/plain": [
       "'ocean    '"
      ]
     },
     "execution_count": 8,
     "metadata": {},
     "output_type": "execute_result"
    }
   ],
   "source": [
    "s1.lstrip()"
   ]
  },
  {
   "cell_type": "code",
   "execution_count": 9,
   "id": "cb0c480e",
   "metadata": {},
   "outputs": [
    {
     "data": {
      "text/plain": [
       "'    ocean'"
      ]
     },
     "execution_count": 9,
     "metadata": {},
     "output_type": "execute_result"
    }
   ],
   "source": [
    "s1.rstrip()"
   ]
  },
  {
   "cell_type": "markdown",
   "id": "57d2ae12",
   "metadata": {},
   "source": [
    "Q9. Replace a string characters by another characters by taking your own example."
   ]
  },
  {
   "cell_type": "code",
   "execution_count": 16,
   "id": "cecc06dc",
   "metadata": {},
   "outputs": [
    {
     "data": {
      "text/plain": [
       "'tGfdGf'"
      ]
     },
     "execution_count": 16,
     "metadata": {},
     "output_type": "execute_result"
    }
   ],
   "source": [
    "f = \"tgfdgf\"\n",
    "f.replace(\"g\",\"G\")"
   ]
  },
  {
   "cell_type": "markdown",
   "id": "80c1a519",
   "metadata": {},
   "source": [
    "Q10. Try to give def of string centre fun with an example"
   ]
  },
  {
   "cell_type": "code",
   "execution_count": 20,
   "id": "f2f6a077",
   "metadata": {},
   "outputs": [],
   "source": [
    "c = \"jhgfd\""
   ]
  },
  {
   "cell_type": "code",
   "execution_count": 21,
   "id": "69cb70c9",
   "metadata": {},
   "outputs": [
    {
     "data": {
      "text/plain": [
       "'#######jhgfd########'"
      ]
     },
     "execution_count": 21,
     "metadata": {},
     "output_type": "execute_result"
    }
   ],
   "source": [
    "c.center(20,'#')"
   ]
  },
  {
   "cell_type": "markdown",
   "id": "f5f5a739",
   "metadata": {},
   "source": [
    "Q11. Write your own def of compiler and interpritor without copy paste from internet in your notepad"
   ]
  },
  {
   "cell_type": "markdown",
   "id": "d9613138",
   "metadata": {},
   "source": [
    "Compiler:- A compiler is a software program that follows the syntax rule of programming language to convert a source code \n",
    "    to machine code. \n",
    "    It cannot fix any error if present in a program; it generates an error message, and you have to correct it yourself \n",
    "    in the program's syntax.\n",
    "Interpreter:-An interpreter is also a software program that translates a source code into a machine language. \n",
    "    However, an interpreter converts high-level programming language into machine language line-by-line while \n",
    "    interpreting and running the program.\n",
    "Eg. -\n",
    "python is the compile as wel as interpreter language\n",
    "html is the interprited language"
   ]
  },
  {
   "cell_type": "markdown",
   "id": "79d80646",
   "metadata": {},
   "source": [
    "Q12. Python is the interpreted compiled language, Give a clear ans with your understanding"
   ]
  },
  {
   "cell_type": "markdown",
   "id": "88748137",
   "metadata": {},
   "source": [
    "Q13. Try to write an usecase of python with your understanding"
   ]
  },
  {
   "cell_type": "code",
   "execution_count": null,
   "id": "926c68a0",
   "metadata": {},
   "outputs": [],
   "source": [
    "Python is usually used for:\n",
    "\n",
    "1 developing softwares and websites\n",
    "2 task automation\n",
    "3 data analysis\n",
    "4 data visualisation\n",
    "5 web scrabing\n",
    "6 data science\n",
    "7 web application development\n",
    "8 game development\n",
    "9 desktop GUI\n",
    "10 enterprise application\n",
    "11 Artificial Intellegence\n",
    "12 Internet of things\n"
   ]
  }
 ],
 "metadata": {
  "kernelspec": {
   "display_name": "Python 3 (ipykernel)",
   "language": "python",
   "name": "python3"
  },
  "language_info": {
   "codemirror_mode": {
    "name": "ipython",
    "version": 3
   },
   "file_extension": ".py",
   "mimetype": "text/x-python",
   "name": "python",
   "nbconvert_exporter": "python",
   "pygments_lexer": "ipython3",
   "version": "3.9.12"
  }
 },
 "nbformat": 4,
 "nbformat_minor": 5
}
