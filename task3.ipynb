{
 "cells": [
  {
   "cell_type": "markdown",
   "id": "c25cc2de",
   "metadata": {},
   "source": [
    "# TASK 3"
   ]
  },
  {
   "cell_type": "code",
   "execution_count": 30,
   "id": "232f0caa",
   "metadata": {},
   "outputs": [
    {
     "name": "stdout",
     "output_type": "stream",
     "text": [
      "Rekha \n",
      "\n",
      "Rekha Rekha \n",
      "\n",
      "Rekha Rekha Rekha \n",
      "\n",
      "Rekha Rekha Rekha Rekha \n",
      "\n"
     ]
    }
   ],
   "source": [
    "n = 4\n",
    "for i in range(4):\n",
    "    for j in range(0, i+1):\n",
    "        print(\"Rekha\", end= \" \")\n",
    "        \n",
    "    print(\"\\n\")"
   ]
  },
  {
   "cell_type": "markdown",
   "id": "54d657b0",
   "metadata": {},
   "source": [
    "#OR"
   ]
  },
  {
   "cell_type": "code",
   "execution_count": 31,
   "id": "67551dda",
   "metadata": {},
   "outputs": [
    {
     "name": "stdout",
     "output_type": "stream",
     "text": [
      "Enter no of rows:5\n",
      "\n",
      "iNeuron \n",
      "iNeuron iNeuron \n",
      "iNeuron iNeuron iNeuron \n",
      "iNeuron iNeuron iNeuron iNeuron \n",
      "iNeuron iNeuron iNeuron iNeuron iNeuron \n"
     ]
    }
   ],
   "source": [
    "n = int(input(\"Enter no of rows:\"))\n",
    "print()\n",
    "for i in range(n):\n",
    "    print(\"iNeuron \"*(i+1))"
   ]
  },
  {
   "cell_type": "markdown",
   "id": "1576b7e8",
   "metadata": {},
   "source": [
    "q2 - \n",
    "\n",
    "          ineruon\n",
    "    ineruon      ineruon\n",
    "ineruon     ineruon     ineruon\n",
    "    ineruon      ineruon\n",
    "          ineruon"
   ]
  },
  {
   "cell_type": "code",
   "execution_count": 32,
   "id": "420a5aa9",
   "metadata": {},
   "outputs": [
    {
     "name": "stdout",
     "output_type": "stream",
     "text": [
      "                                                            \n",
      "                         iNeuron                            \n",
      "                     iNeuron  iNeuron                       \n",
      "                iNeuron  iNeuron  iNeuron                   \n",
      "                     iNeuron  iNeuron                       \n",
      "                         iNeuron                            \n"
     ]
    }
   ],
   "source": [
    "for i in range(6):\n",
    "    if i <= 3:\n",
    "        n = i\n",
    "    else:\n",
    "        n = 6 - i\n",
    "    print(('iNeuron  '*n).center(60,' '))\n",
    "    \n"
   ]
  },
  {
   "cell_type": "code",
   "execution_count": 33,
   "id": "95e78433",
   "metadata": {},
   "outputs": [],
   "source": [
    "l = [[1,2,3,4] , (2,3,4,5,6) , (3,4,5,6,7) , set([23,4,5,45,4,4,5,45,45,4,5]) , {'k1' :\"sudh\" , \"k2\" : \"ineuron\",\"k3\":\n",
    "            \"kumar\" , 3:6 , 7:8} , [\"ineuron\" , \"data science \"]]"
   ]
  },
  {
   "cell_type": "markdown",
   "id": "628874b9",
   "metadata": {},
   "source": [
    " Que3. Try to extract all the list entity"
   ]
  },
  {
   "cell_type": "code",
   "execution_count": 34,
   "id": "18e2e994",
   "metadata": {},
   "outputs": [
    {
     "name": "stdout",
     "output_type": "stream",
     "text": [
      "[1, 2, 3, 4]\n",
      "['ineuron', 'data science ']\n"
     ]
    }
   ],
   "source": [
    "for i in l:\n",
    "    if type(i)==list:\n",
    "        print(i)"
   ]
  },
  {
   "cell_type": "markdown",
   "id": "0a08cbb9",
   "metadata": {},
   "source": [
    "q4 : Try to extract all the dict enteties\n"
   ]
  },
  {
   "cell_type": "code",
   "execution_count": 35,
   "id": "e04d31a8",
   "metadata": {},
   "outputs": [
    {
     "name": "stdout",
     "output_type": "stream",
     "text": [
      "{'k1': 'sudh', 'k2': 'ineuron', 'k3': 'kumar', 3: 6, 7: 8}\n"
     ]
    }
   ],
   "source": [
    "for i in l:\n",
    "    if type(i)==dict:\n",
    "        print(i)"
   ]
  },
  {
   "cell_type": "markdown",
   "id": "a573cea2",
   "metadata": {},
   "source": [
    "q5 : Try to extract all the tuples entities\n"
   ]
  },
  {
   "cell_type": "code",
   "execution_count": 36,
   "id": "c6f6f39a",
   "metadata": {},
   "outputs": [
    {
     "name": "stdout",
     "output_type": "stream",
     "text": [
      "(2, 3, 4, 5, 6)\n",
      "(3, 4, 5, 6, 7)\n"
     ]
    }
   ],
   "source": [
    "for i in l:\n",
    "    if type(i)==tuple:\n",
    "        print(i)"
   ]
  },
  {
   "cell_type": "markdown",
   "id": "6b7c3209",
   "metadata": {},
   "source": [
    "q6 : Try to extract all the numerical data it may b a part of dict key and values \n"
   ]
  },
  {
   "cell_type": "code",
   "execution_count": 37,
   "id": "dee8d676",
   "metadata": {},
   "outputs": [
    {
     "data": {
      "text/plain": [
       "[[1, 2, 3, 4],\n",
       " (2, 3, 4, 5, 6),\n",
       " (3, 4, 5, 6, 7),\n",
       " {4, 5, 23, 45},\n",
       " {'k1': 'sudh', 'k2': 'ineuron', 'k3': 'kumar', 3: 6, 7: 8},\n",
       " ['ineuron', 'data science ']]"
      ]
     },
     "execution_count": 37,
     "metadata": {},
     "output_type": "execute_result"
    }
   ],
   "source": [
    "l"
   ]
  },
  {
   "cell_type": "code",
   "execution_count": 38,
   "id": "9dde7fc3",
   "metadata": {},
   "outputs": [
    {
     "name": "stdout",
     "output_type": "stream",
     "text": [
      "1\n",
      "2\n",
      "3\n",
      "4\n",
      "2\n",
      "3\n",
      "4\n",
      "5\n",
      "6\n",
      "3\n",
      "4\n",
      "5\n",
      "6\n",
      "7\n",
      "45\n",
      "4\n",
      "5\n",
      "23\n"
     ]
    }
   ],
   "source": [
    "l1=[]\n",
    "for i in l:\n",
    "    if type(i)==tuple or type(i)==set or type(i)==list:\n",
    "        for j in i:\n",
    "            if type(j)==int:\n",
    "                print(j)\n",
    "                l1.append(j)\n",
    "                \n",
    "    if type(i)==dict:\n",
    "        for k in i.items():\n",
    "            for g in k:\n",
    "                if type(g)==int:\n",
    "                    l1.append(g)\n",
    "                    \n",
    "        "
   ]
  },
  {
   "cell_type": "code",
   "execution_count": 39,
   "id": "1060532a",
   "metadata": {},
   "outputs": [
    {
     "data": {
      "text/plain": [
       "dict_items([('k1', 'sudh'), ('k2', 'ineuron'), ('k3', 'kumar'), (3, 6), (7, 8)])"
      ]
     },
     "execution_count": 39,
     "metadata": {},
     "output_type": "execute_result"
    }
   ],
   "source": [
    "d={'k1' :\"sudh\" , \"k2\" : \"ineuron\",\"k3\":\n",
    "            \"kumar\" , 3:6 , 7:8}\n",
    "d.items()            #treturns in tuple form"
   ]
  },
  {
   "cell_type": "markdown",
   "id": "0f088727",
   "metadata": {},
   "source": [
    "q7 : Try to give summation of all the numeric data \n"
   ]
  },
  {
   "cell_type": "code",
   "execution_count": 40,
   "id": "24d91126",
   "metadata": {},
   "outputs": [
    {
     "data": {
      "text/plain": [
       "156"
      ]
     },
     "execution_count": 40,
     "metadata": {},
     "output_type": "execute_result"
    }
   ],
   "source": [
    "sum(l1)"
   ]
  },
  {
   "cell_type": "code",
   "execution_count": 41,
   "id": "58ea2aba",
   "metadata": {},
   "outputs": [
    {
     "data": {
      "text/plain": [
       "[1, 2, 3, 4, 2, 3, 4, 5, 6, 3, 4, 5, 6, 7, 45, 4, 5, 23, 3, 6, 7, 8]"
      ]
     },
     "execution_count": 41,
     "metadata": {},
     "output_type": "execute_result"
    }
   ],
   "source": [
    "l1"
   ]
  },
  {
   "cell_type": "markdown",
   "id": "c880d6b4",
   "metadata": {},
   "source": [
    "q8 : Try to filter out all the odd values out all numeric data which is a part of a list \n"
   ]
  },
  {
   "cell_type": "code",
   "execution_count": 42,
   "id": "48781f9c",
   "metadata": {},
   "outputs": [
    {
     "name": "stdout",
     "output_type": "stream",
     "text": [
      "1\n",
      "3\n",
      "3\n",
      "5\n",
      "3\n",
      "5\n",
      "7\n",
      "45\n",
      "5\n",
      "23\n",
      "3\n",
      "7\n"
     ]
    }
   ],
   "source": [
    "for i in l1:\n",
    "    if i % 2==0:\n",
    "        pass\n",
    "    else:\n",
    "        print(i)\n",
    "    "
   ]
  },
  {
   "cell_type": "code",
   "execution_count": 43,
   "id": "9f12270e",
   "metadata": {},
   "outputs": [
    {
     "name": "stdout",
     "output_type": "stream",
     "text": [
      "2\n",
      "4\n",
      "2\n",
      "4\n",
      "6\n",
      "4\n",
      "6\n",
      "4\n",
      "6\n",
      "8\n"
     ]
    }
   ],
   "source": [
    "for i in l1:\n",
    "    if i % 2==0:\n",
    "        print(i)\n",
    "    "
   ]
  },
  {
   "cell_type": "markdown",
   "id": "c20e0f84",
   "metadata": {},
   "source": [
    "q9 : Try to extract \"ineruon\" out of this data\n"
   ]
  },
  {
   "cell_type": "code",
   "execution_count": 44,
   "id": "3acb3515",
   "metadata": {},
   "outputs": [
    {
     "data": {
      "text/plain": [
       "[[1, 2, 3, 4],\n",
       " (2, 3, 4, 5, 6),\n",
       " (3, 4, 5, 6, 7),\n",
       " {4, 5, 23, 45},\n",
       " {'k1': 'sudh', 'k2': 'ineuron', 'k3': 'kumar', 3: 6, 7: 8},\n",
       " ['ineuron', 'data science ']]"
      ]
     },
     "execution_count": 44,
     "metadata": {},
     "output_type": "execute_result"
    }
   ],
   "source": [
    "l"
   ]
  },
  {
   "cell_type": "code",
   "execution_count": 45,
   "id": "a4f2b899",
   "metadata": {},
   "outputs": [],
   "source": [
    "l1= []\n",
    "for i in l:\n",
    "    if type(i)==tuple or type(i)==set or type(i)==list:\n",
    "        for j in i:\n",
    "            if j =='ineuron':\n",
    "                l1.append(j)\n",
    "    if type(i)==dict:\n",
    "        for k in i.items():\n",
    "            for g in k:\n",
    "                if g == \"ineuron\":\n",
    "                    l1.append(g)\n",
    "                \n",
    "    \n",
    "                    "
   ]
  },
  {
   "cell_type": "code",
   "execution_count": 46,
   "id": "2e29e5a7",
   "metadata": {},
   "outputs": [
    {
     "data": {
      "text/plain": [
       "['ineuron', 'ineuron']"
      ]
     },
     "execution_count": 46,
     "metadata": {},
     "output_type": "execute_result"
    }
   ],
   "source": [
    "l1"
   ]
  },
  {
   "cell_type": "markdown",
   "id": "a62de4c9",
   "metadata": {},
   "source": [
    "q10 : Try to find out a number of occurances of all the data \n"
   ]
  },
  {
   "cell_type": "code",
   "execution_count": 47,
   "id": "31faf497",
   "metadata": {},
   "outputs": [
    {
     "data": {
      "text/plain": [
       "[[1, 2, 3, 4],\n",
       " (2, 3, 4, 5, 6),\n",
       " (3, 4, 5, 6, 7),\n",
       " {4, 5, 23, 45},\n",
       " {'k1': 'sudh', 'k2': 'ineuron', 'k3': 'kumar', 3: 6, 7: 8},\n",
       " ['ineuron', 'data science ']]"
      ]
     },
     "execution_count": 47,
     "metadata": {},
     "output_type": "execute_result"
    }
   ],
   "source": [
    "l"
   ]
  },
  {
   "cell_type": "code",
   "execution_count": 48,
   "id": "2846ad78",
   "metadata": {},
   "outputs": [
    {
     "name": "stdout",
     "output_type": "stream",
     "text": [
      "1\n",
      "2\n",
      "3\n",
      "4\n",
      "2\n",
      "3\n",
      "4\n",
      "5\n",
      "6\n",
      "3\n",
      "4\n",
      "5\n",
      "6\n",
      "7\n",
      "45\n",
      "4\n",
      "5\n",
      "23\n",
      "ineuron\n",
      "data science \n"
     ]
    }
   ],
   "source": [
    "l1=[]\n",
    "for i in l:\n",
    "    if type(i)==tuple or type(i)==set or type(i)==list:\n",
    "        for j in i:\n",
    "            if type(j)==int or type(j)==str:\n",
    "                print(j)\n",
    "                l1.append(j)\n",
    "            \n",
    "    if type(i) == dict:\n",
    "        for k in i.items():\n",
    "            for g in k:\n",
    "                if type(g)==int or type(g)==str:\n",
    "                    l1.append(g)\n",
    "                "
   ]
  },
  {
   "cell_type": "code",
   "execution_count": 20,
   "id": "d2eb8fa3",
   "metadata": {},
   "outputs": [
    {
     "data": {
      "text/plain": [
       "[1,\n",
       " 2,\n",
       " 3,\n",
       " 4,\n",
       " 2,\n",
       " 3,\n",
       " 4,\n",
       " 5,\n",
       " 6,\n",
       " 3,\n",
       " 4,\n",
       " 5,\n",
       " 6,\n",
       " 7,\n",
       " 45,\n",
       " 4,\n",
       " 5,\n",
       " 23,\n",
       " 'k1',\n",
       " 'sudh',\n",
       " 'k2',\n",
       " 'ineuron',\n",
       " 'k3',\n",
       " 'kumar',\n",
       " 3,\n",
       " 6,\n",
       " 7,\n",
       " 8,\n",
       " 'ineuron',\n",
       " 'data science ']"
      ]
     },
     "execution_count": 20,
     "metadata": {},
     "output_type": "execute_result"
    }
   ],
   "source": [
    "l1    "
   ]
  },
  {
   "cell_type": "code",
   "execution_count": 21,
   "id": "92063ac9",
   "metadata": {},
   "outputs": [
    {
     "data": {
      "text/plain": [
       "{1,\n",
       " 2,\n",
       " 23,\n",
       " 3,\n",
       " 4,\n",
       " 45,\n",
       " 5,\n",
       " 6,\n",
       " 7,\n",
       " 8,\n",
       " 'data science ',\n",
       " 'ineuron',\n",
       " 'k1',\n",
       " 'k2',\n",
       " 'k3',\n",
       " 'kumar',\n",
       " 'sudh'}"
      ]
     },
     "execution_count": 21,
     "metadata": {},
     "output_type": "execute_result"
    }
   ],
   "source": [
    "set(l1)"
   ]
  },
  {
   "cell_type": "code",
   "execution_count": 22,
   "id": "fbabed03",
   "metadata": {},
   "outputs": [
    {
     "name": "stdout",
     "output_type": "stream",
     "text": [
      "sudh : 1\n",
      "1 : 1\n",
      "2 : 2\n",
      "3 : 4\n",
      "4 : 4\n",
      "5 : 3\n",
      "6 : 3\n",
      "7 : 2\n",
      "k1 : 1\n",
      "ineuron : 2\n",
      "k3 : 1\n",
      "kumar : 1\n",
      "8 : 1\n",
      "45 : 1\n",
      "data science  : 1\n",
      "k2 : 1\n",
      "23 : 1\n"
     ]
    }
   ],
   "source": [
    "for i in set(l1):\n",
    "    print(i, \":\", l1.count(i))"
   ]
  },
  {
   "cell_type": "markdown",
   "id": "fcbbd08d",
   "metadata": {},
   "source": [
    "q11 : Try to find out number of keys in dict element\n"
   ]
  },
  {
   "cell_type": "code",
   "execution_count": 23,
   "id": "91851cfe",
   "metadata": {},
   "outputs": [
    {
     "data": {
      "text/plain": [
       "[[1, 2, 3, 4],\n",
       " (2, 3, 4, 5, 6),\n",
       " (3, 4, 5, 6, 7),\n",
       " {4, 5, 23, 45},\n",
       " {'k1': 'sudh', 'k2': 'ineuron', 'k3': 'kumar', 3: 6, 7: 8},\n",
       " ['ineuron', 'data science ']]"
      ]
     },
     "execution_count": 23,
     "metadata": {},
     "output_type": "execute_result"
    }
   ],
   "source": [
    "l"
   ]
  },
  {
   "cell_type": "code",
   "execution_count": 24,
   "id": "0e7f8ed0",
   "metadata": {},
   "outputs": [
    {
     "name": "stdout",
     "output_type": "stream",
     "text": [
      "5\n"
     ]
    }
   ],
   "source": [
    "for i in l:\n",
    "    if type(i)==dict:\n",
    "        print(len(i.keys()))"
   ]
  },
  {
   "cell_type": "markdown",
   "id": "9242d769",
   "metadata": {},
   "source": [
    "q12 : Try to filter out all the string data \n"
   ]
  },
  {
   "cell_type": "code",
   "execution_count": 25,
   "id": "e9dab6ab",
   "metadata": {},
   "outputs": [
    {
     "name": "stdout",
     "output_type": "stream",
     "text": [
      "k1\n",
      "sudh\n",
      "k2\n",
      "ineuron\n",
      "k3\n",
      "kumar\n",
      "ineuron\n",
      "data science \n"
     ]
    }
   ],
   "source": [
    "\n",
    "for i in l1:\n",
    "    if type(i)==str:\n",
    "        print(i)"
   ]
  },
  {
   "cell_type": "markdown",
   "id": "cb6fbc74",
   "metadata": {},
   "source": [
    "q13 : Try to Find  out alphanum in data\n"
   ]
  },
  {
   "cell_type": "code",
   "execution_count": 26,
   "id": "031586ab",
   "metadata": {},
   "outputs": [
    {
     "name": "stdout",
     "output_type": "stream",
     "text": [
      "k1\n",
      "sudh\n",
      "k2\n",
      "ineuron\n",
      "k3\n",
      "kumar\n",
      "ineuron\n"
     ]
    }
   ],
   "source": [
    "for i in l1:\n",
    "    if type(i)==str:\n",
    "        if i.isalnum():\n",
    "            print(i)"
   ]
  },
  {
   "cell_type": "markdown",
   "id": "e1c93692",
   "metadata": {},
   "source": [
    "q14 : Try to find out multiplication of all numeric value in the individual collection inside dataset\n"
   ]
  },
  {
   "cell_type": "code",
   "execution_count": 27,
   "id": "ad460f06",
   "metadata": {},
   "outputs": [
    {
     "name": "stdout",
     "output_type": "stream",
     "text": [
      "24\n",
      "720\n",
      "2520\n",
      "20700\n",
      "1008\n",
      "1\n"
     ]
    }
   ],
   "source": [
    "for i in l:\n",
    "    m=1\n",
    "    if type(i)==set or type(i)==tuple or type(i)==list:\n",
    "        for j in i:\n",
    "            if type(j)==int:\n",
    "                m=m*j\n",
    "        print(m)\n",
    "    if type(i)==dict:\n",
    "        for k in i.items():\n",
    "            for n in k:\n",
    "                if type(n)==int:\n",
    "                    m=m*n\n",
    "        print(m)"
   ]
  },
  {
   "cell_type": "code",
   "execution_count": 29,
   "id": "baf5daa7",
   "metadata": {},
   "outputs": [
    {
     "name": "stdout",
     "output_type": "stream",
     "text": [
      "908605071360000\n"
     ]
    }
   ],
   "source": [
    "j=1\n",
    "for i in l1:\n",
    "    if type(i)==int:\n",
    "        j=j*i\n",
    "print(j)"
   ]
  },
  {
   "cell_type": "code",
   "execution_count": null,
   "id": "edac7f56",
   "metadata": {},
   "outputs": [],
   "source": []
  }
 ],
 "metadata": {
  "kernelspec": {
   "display_name": "Python 3 (ipykernel)",
   "language": "python",
   "name": "python3"
  },
  "language_info": {
   "codemirror_mode": {
    "name": "ipython",
    "version": 3
   },
   "file_extension": ".py",
   "mimetype": "text/x-python",
   "name": "python",
   "nbconvert_exporter": "python",
   "pygments_lexer": "ipython3",
   "version": "3.9.12"
  }
 },
 "nbformat": 4,
 "nbformat_minor": 5
}
